{
 "cells": [
  {
   "cell_type": "code",
   "execution_count": 3,
   "id": "d536457b-4caa-4242-aa7c-f000fd939625",
   "metadata": {},
   "outputs": [
    {
     "name": "stdin",
     "output_type": "stream",
     "text": [
      "Enter the value of  A : 9\n",
      "Enter the value of  B : 3\n"
     ]
    },
    {
     "name": "stdout",
     "output_type": "stream",
     "text": [
      "1.0 is divisible by 3 2 times .\n"
     ]
    }
   ],
   "source": [
    "a = int(input(\"Enter the value of  A :\"))\n",
    "\n",
    "b = int(input(\"Enter the value of  B :\"))\n",
    "\n",
    "count  = 0\n",
    "\n",
    "while(a%b == 0):\n",
    "    a/=b\n",
    "    count+=1\n",
    "if(count>0):\n",
    "    print(f\"{a} is divisible by {b} {count} times .\")\n",
    "else:\n",
    "    print(f\"{a} is not divisible by {b} .\")\n"
   ]
  },
  {
   "cell_type": "code",
   "execution_count": null,
   "id": "f11dbd38-211f-42d8-9be8-15bfb3e7c089",
   "metadata": {},
   "outputs": [],
   "source": []
  }
 ],
 "metadata": {
  "kernelspec": {
   "display_name": "Python 3 (ipykernel)",
   "language": "python",
   "name": "python3"
  },
  "language_info": {
   "codemirror_mode": {
    "name": "ipython",
    "version": 3
   },
   "file_extension": ".py",
   "mimetype": "text/x-python",
   "name": "python",
   "nbconvert_exporter": "python",
   "pygments_lexer": "ipython3",
   "version": "3.10.8"
  }
 },
 "nbformat": 4,
 "nbformat_minor": 5
}
