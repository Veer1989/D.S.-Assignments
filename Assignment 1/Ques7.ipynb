{
 "cells": [
  {
   "cell_type": "raw",
   "id": "4865cd73-fc69-4f44-9cd1-727f94a1547c",
   "metadata": {},
   "source": [
    "we can modify mutable datatyypes which is not possible in immutable datatypes i.e. Strings are immutable and list are mutable"
   ]
  },
  {
   "cell_type": "code",
   "execution_count": 1,
   "id": "a266ba0d-a380-4173-8357-29aaedf7693a",
   "metadata": {},
   "outputs": [],
   "source": [
    "s1 = \"hello veer\"\n",
    "#s1[2] = 'a' is not possible"
   ]
  },
  {
   "cell_type": "code",
   "execution_count": 3,
   "id": "dd556d99-b5b4-4e32-abde-550bdb873409",
   "metadata": {},
   "outputs": [
    {
     "name": "stdout",
     "output_type": "stream",
     "text": [
      "['hello', 'abc']\n"
     ]
    }
   ],
   "source": [
    "l1 = [\"hello\" , \"veer\"]\n",
    "l1[1] = 'abc'\n",
    "print(l1)"
   ]
  },
  {
   "cell_type": "code",
   "execution_count": null,
   "id": "2c59e860-846f-4540-98ec-cd75d41ec901",
   "metadata": {},
   "outputs": [],
   "source": []
  }
 ],
 "metadata": {
  "kernelspec": {
   "display_name": "Python 3 (ipykernel)",
   "language": "python",
   "name": "python3"
  },
  "language_info": {
   "codemirror_mode": {
    "name": "ipython",
    "version": 3
   },
   "file_extension": ".py",
   "mimetype": "text/x-python",
   "name": "python",
   "nbconvert_exporter": "python",
   "pygments_lexer": "ipython3",
   "version": "3.10.8"
  }
 },
 "nbformat": 4,
 "nbformat_minor": 5
}
