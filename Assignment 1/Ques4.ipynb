{
 "cells": [
  {
   "cell_type": "code",
   "execution_count": 1,
   "id": "b3163383-b1d6-4fa7-b687-c9ac477c9ee9",
   "metadata": {},
   "outputs": [],
   "source": [
    "l1 = [1,2,3,4,'a','b','c','d',\"ab\",\"abc\"]"
   ]
  },
  {
   "cell_type": "code",
   "execution_count": 3,
   "id": "d5d8fe6b-6c9d-4123-8ef8-01292e296d86",
   "metadata": {},
   "outputs": [
    {
     "name": "stdout",
     "output_type": "stream",
     "text": [
      "<class 'int'>\n",
      "<class 'int'>\n",
      "<class 'int'>\n",
      "<class 'int'>\n",
      "<class 'str'>\n",
      "<class 'str'>\n",
      "<class 'str'>\n",
      "<class 'str'>\n",
      "<class 'str'>\n",
      "<class 'str'>\n"
     ]
    }
   ],
   "source": [
    "for i in l1:\n",
    "    print(type(i))"
   ]
  },
  {
   "cell_type": "code",
   "execution_count": null,
   "id": "efa40612-85fa-4840-96a3-e5b749991850",
   "metadata": {},
   "outputs": [],
   "source": []
  }
 ],
 "metadata": {
  "kernelspec": {
   "display_name": "Python 3 (ipykernel)",
   "language": "python",
   "name": "python3"
  },
  "language_info": {
   "codemirror_mode": {
    "name": "ipython",
    "version": 3
   },
   "file_extension": ".py",
   "mimetype": "text/x-python",
   "name": "python",
   "nbconvert_exporter": "python",
   "pygments_lexer": "ipython3",
   "version": "3.10.8"
  }
 },
 "nbformat": 4,
 "nbformat_minor": 5
}
